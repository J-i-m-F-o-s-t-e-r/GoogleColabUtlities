{
  "nbformat": 4,
  "nbformat_minor": 0,
  "metadata": {
    "colab": {
      "name": "FileDownloadAndUnzip.ipynb",
      "provenance": []
    },
    "kernelspec": {
      "name": "python3",
      "display_name": "Python 3"
    }
  },
  "cells": [
    {
      "cell_type": "markdown",
      "metadata": {
        "id": "MeTbNprBomX9",
        "colab_type": "text"
      },
      "source": [
        "Script block to download and unzip files from the internet directly to Colab.  \n",
        "* Most hosts will block this so will only occasionally work."
      ]
    },
    {
      "cell_type": "code",
      "metadata": {
        "id": "89UReD4bokHg",
        "colab_type": "code",
        "colab": {}
      },
      "source": [
        "# Functions to allow downloading data from URL\n",
        "from urllib.request import urlretrieve\n",
        "import os\n",
        "from zipfile import ZipFile\n",
        "\n",
        "def download(url, file):\n",
        "    if not os.path.isfile(file):\n",
        "        print(\"Download file... \" + file + \" ...\")\n",
        "        urlretrieve(url,file)\n",
        "        print(\"File downloaded\")\n",
        "\n",
        "# Use: download('Url of the file','Name of the file to be saved')\n",
        "download('https://www.kaggle.com/paultimothymooney/chest-xray-pneumonia/downloads/chest_xray.zip/2','chest_xray.zip')\n",
        "\n",
        "print(\"All the files are downloaded\")\n",
        "#If the downloaded file is a zip file than you can use below function to unzip it.\n",
        "def uncompress_features_labels(dir):\n",
        "    if(os.path.isdir('data')):\n",
        "        print('Data extracted')\n",
        "    else:\n",
        "        with ZipFile(dir) as zipf:\n",
        "            zipf.extractall('data')\n",
        "# Use: uncompress_features_labels('data.zip')\n",
        "#Use: uncompress_features_labels('prophecy.zip')"
      ],
      "execution_count": 0,
      "outputs": []
    }
  ]
}